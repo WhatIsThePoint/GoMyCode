{
 "cells": [
  {
   "cell_type": "code",
   "execution_count": 7,
   "metadata": {},
   "outputs": [
    {
     "name": "stdout",
     "output_type": "stream",
     "text": [
      "[[1 2]\n",
      " [1 2]]\n",
      "[[1, 2], [1, 2]]\n"
     ]
    }
   ],
   "source": [
    "import numpy as np \n",
    "w=np.array([[1,2],[1,2]])\n",
    "x=w.tolist()\n",
    "print(x)\n"
   ]
  },
  {
   "cell_type": "code",
   "execution_count": 18,
   "metadata": {},
   "outputs": [
    {
     "name": "stdout",
     "output_type": "stream",
     "text": [
      "[[3 3 8 6]\n",
      " [0 7 9 6]\n",
      " [5 0 5 1]\n",
      " [9 2 7 2]]\n",
      "The manual sum is:  17\n",
      "The trace Sum is:  17\n"
     ]
    }
   ],
   "source": [
    "m=np.random.randint(0, 10, size=(4,4))\n",
    "print(m)\n",
    "x=0\n",
    "for i in range (len(m)):\n",
    "    x+=m[i,i]\n",
    "m = np.trace(m)\n",
    "print(\"The manual sum is: \",x)\n",
    "print(\"The trace Sum is: \", m)"
   ]
  },
  {
   "cell_type": "code",
   "execution_count": 29,
   "metadata": {},
   "outputs": [
    {
     "name": "stdout",
     "output_type": "stream",
     "text": [
      "The array is: \n",
      " [[5 0 3 0]\n",
      " [9 9 4 2]\n",
      " [0 4 4 1]\n",
      " [4 0 6 0]] \n",
      "The number is:  3\n",
      "The numbers bigger than 3 :\n",
      " [5, 9, 9, 4, 4, 4, 4, 6]\n"
     ]
    }
   ],
   "source": [
    "from random import randint\n",
    "m=np.random.randint(0, 10, size=(4,4))\n",
    "x=randint(0,5)\n",
    "l=[]\n",
    "for i in range (len(m)):\n",
    "    for j in range (len(m)):\n",
    "        if (m[i,j]>x):\n",
    "            l.append(m[i,j])\n",
    "print(\"The array is: \\n\",m,\"\\nThe number is: \",x)\n",
    "print(\"The numbers bigger than\",x,':\\n',l)"
   ]
  },
  {
   "cell_type": "code",
   "execution_count": 37,
   "metadata": {},
   "outputs": [
    {
     "name": "stdout",
     "output_type": "stream",
     "text": [
      "A: \n",
      " [[8 7]\n",
      " [3 4]] \n",
      "B: \n",
      " [[7 0]\n",
      " [9 1]]\n",
      "39\n"
     ]
    }
   ],
   "source": [
    "A=np.random.randint(0, 10, size=(2,2))\n",
    "B=np.random.randint(0, 10, size=(2,2))\n",
    "x=0\n",
    "for i in range (len(A)):\n",
    "    for j in range (len(A)):\n",
    "        x+=A[i,j]+B[i,j]\n",
    "print(\"A: \\n\",A,\"\\nB: \\n\",B)\n",
    "print(x)"
   ]
  },
  {
   "cell_type": "code",
   "execution_count": 89,
   "metadata": {},
   "outputs": [
    {
     "name": "stdout",
     "output_type": "stream",
     "text": [
      "The Sum of each row:  [27 18 14 19] \n",
      "The mean of each row:  [6.75 4.5  3.5  4.75]\n",
      "[20.25, 13.5, 10.5, 14.25]\n"
     ]
    }
   ],
   "source": [
    "m=np.random.randint(0, 10, size=(4,4))\n",
    "Rsum=m.sum(axis=1)\n",
    "Rmean=m.mean(axis=1)\n",
    "print(\"The Sum of each row: \",Rsum,\"\\nThe mean of each row: \",Rmean)\n",
    "l=[]\n",
    "for i in range (len(Rsum)):\n",
    "    x=Rsum[i]-Rmean[i]\n",
    "    l.append(x)\n",
    "print(l)\n",
    "    "
   ]
  },
  {
   "cell_type": "code",
   "execution_count": null,
   "metadata": {},
   "outputs": [],
   "source": []
  }
 ],
 "metadata": {
  "kernelspec": {
   "display_name": "Python 3",
   "language": "python",
   "name": "python3"
  },
  "language_info": {
   "codemirror_mode": {
    "name": "ipython",
    "version": 3
   },
   "file_extension": ".py",
   "mimetype": "text/x-python",
   "name": "python",
   "nbconvert_exporter": "python",
   "pygments_lexer": "ipython3",
   "version": "3.8.5"
  }
 },
 "nbformat": 4,
 "nbformat_minor": 4
}
