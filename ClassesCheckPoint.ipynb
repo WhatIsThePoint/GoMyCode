{
 "cells": [
  {
   "cell_type": "code",
   "execution_count": 23,
   "metadata": {},
   "outputs": [
    {
     "name": "stdout",
     "output_type": "stream",
     "text": [
      "Give radius: 7\n",
      "Area= 153.93804002589985\n",
      "Perimeter= 43.982297150257104\n"
     ]
    }
   ],
   "source": [
    "import math\n",
    "radius=float(input(\"Give radius: \"))\n",
    "Area=math.pi*(radius**2)\n",
    "Perimeter=math.pi*(radius*2)\n",
    "print(\"Area=\",Area)\n",
    "print(\"Perimeter=\",Perimeter)\n"
   ]
  },
  {
   "cell_type": "code",
   "execution_count": 26,
   "metadata": {},
   "outputs": [
    {
     "name": "stdout",
     "output_type": "stream",
     "text": [
      "Enter number of elements: 3\n",
      "Enter element: 4\n",
      "Enter element: 5\n",
      "Enter element: 6\n",
      "Subsets: \n",
      "[[], [6], [5], [5, 6], [4], [4, 6], [4, 5], [4, 5, 6]]\n"
     ]
    }
   ],
   "source": [
    "class subsets:  \n",
    "    def f1(self, s1):  \n",
    "        return self.f2([], sorted(s1))  \n",
    " \n",
    "    def f2(self, curr, s1):  \n",
    "        if s1:  \n",
    "            return self.f2(curr, s1[1:]) + self.f2(curr + [s1[0]], s1[1:])  \n",
    "        return [curr]  \n",
    "x=[]\n",
    "n=int(input(\"Enter number of elements: \"))\n",
    "for i in range(n):\n",
    "    y=int(input(\"Enter element: \"))\n",
    "    x.append(y)\n",
    "print(\"Subsets: \")\n",
    "print(subsets ().f1(x))"
   ]
  },
  {
   "cell_type": "code",
   "execution_count": 32,
   "metadata": {},
   "outputs": [
    {
     "name": "stdout",
     "output_type": "stream",
     "text": [
      "[[-10, 2, 8], [-7, -3, 10]]\n"
     ]
    }
   ],
   "source": [
    "class sum0:\n",
    " def calc(self, l):\n",
    "        result =[]\n",
    "        i=0\n",
    "        while i < len(l) - 2:\n",
    "            j, k = i + 1, len(l) - 1\n",
    "            while j < k:\n",
    "                if l[i] + l[j] + l[k] < 0:\n",
    "                    j += 1\n",
    "                elif l[i] + l[j] + l[k] > 0:\n",
    "                    k -= 1\n",
    "                else:\n",
    "                    result.append([l[i], l[j], l[k]])\n",
    "                    j, k = j + 1, k - 1\n",
    "                    while j < k and l[j] == l[j - 1]:\n",
    "                        j += 1\n",
    "                    while j < k and l[k] == l[k + 1]:\n",
    "                        k -= 1\n",
    "            i += 1\n",
    "            while i < len(l) - 2 and l[i] == l[i - 1]:\n",
    "                i += 1\n",
    "        return result\n",
    "\n",
    "print(sum0().calc([-25, -10, -7, -3, 2, 4, 8, 10]))"
   ]
  },
  {
   "cell_type": "code",
   "execution_count": 21,
   "metadata": {},
   "outputs": [
    {
     "name": "stdout",
     "output_type": "stream",
     "text": [
      "How many numbers:  7\n",
      "10\n",
      "20\n",
      "10\n",
      "40\n",
      "50\n",
      "60\n",
      "70\n",
      "[10, 20, 10, 40, 50, 60, 70]\n",
      "Give target: 50\n",
      "0 3\n",
      "2 3\n",
      "3 0\n",
      "3 2\n"
     ]
    }
   ],
   "source": [
    "class calc:\n",
    "    def Sum(self):\n",
    "        m = []\n",
    "        x = int(input(\"How many numbers:  \"))\n",
    "        for i in range(x):\n",
    "            y = int(input())\n",
    "            m.append(y)\n",
    "        print(m)\n",
    "        target=int(input('Give target: '))\n",
    "        res = []\n",
    "        for i in range (len(m)):\n",
    "            for j in range (len(m)):\n",
    "                if m[i]+m[j]==target:\n",
    "                    l = [i,j]\n",
    "                    res.append(l)\n",
    "        return res\n",
    "        \n",
    "r = calc().Sum()\n",
    "for i in range(len(r)):\n",
    "    print(str(r[i][0]),str(r[i][1]))"
   ]
  },
  {
   "cell_type": "code",
   "execution_count": null,
   "metadata": {},
   "outputs": [],
   "source": []
  }
 ],
 "metadata": {
  "kernelspec": {
   "display_name": "Python 3",
   "language": "python",
   "name": "python3"
  },
  "language_info": {
   "codemirror_mode": {
    "name": "ipython",
    "version": 3
   },
   "file_extension": ".py",
   "mimetype": "text/x-python",
   "name": "python",
   "nbconvert_exporter": "python",
   "pygments_lexer": "ipython3",
   "version": "3.8.5"
  }
 },
 "nbformat": 4,
 "nbformat_minor": 4
}
