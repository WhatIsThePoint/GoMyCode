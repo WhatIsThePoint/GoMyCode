{
 "cells": [
  {
   "cell_type": "markdown",
   "metadata": {},
   "source": [
    "# Q1\n",
    "\n"
   ]
  },
  {
   "cell_type": "code",
   "execution_count": 23,
   "metadata": {
    "scrolled": true
   },
   "outputs": [
    {
     "name": "stdout",
     "output_type": "stream",
     "text": [
      "How many numbers are there in the list: 3\n",
      "Give number n° 1: 2\n",
      "Give number n° 2: 3\n",
      "Give number n° 3: 6\n",
      "[2, 3, 6]\n",
      "36\n"
     ]
    }
   ],
   "source": [
    "l=[]\n",
    "x=int(input(\"How many numbers are there in the list: \"))\n",
    "for i in range(x) :\n",
    "    y=int(input(\"Give number n° {}: \".format(i+1)))\n",
    "    l.append(y)\n",
    "print(l)\n",
    "s=1\n",
    "for j in range (len(l)):\n",
    "    s=s*(l[j])\n",
    "print(s)"
   ]
  },
  {
   "cell_type": "markdown",
   "metadata": {},
   "source": [
    "# Q2"
   ]
  },
  {
   "cell_type": "code",
   "execution_count": 117,
   "metadata": {},
   "outputs": [
    {
     "name": "stdout",
     "output_type": "stream",
     "text": [
      "how many tuples: 3\n",
      "enter  tuple element n°1: 2,3\n",
      "enter  tuple element n°2: 2,1\n",
      "enter  tuple element n°3: 4,2\n",
      "[(2, 3), (2, 1), (4, 2)]\n",
      "[(2, 1), (4, 2), (2, 3)]\n"
     ]
    }
   ],
   "source": [
    "l=[]\n",
    "x=int(input(\"how many tuples: \"))\n",
    "for w in range(x):\n",
    "    n=input('enter  tuple element n°{}: '.format(w+1))\n",
    "    for i in range (len(p)-1):\n",
    "        p=n.split((\",\"))\n",
    "        tup=(int(p[i]),int(p[i+1]))\n",
    "        l.append(tup)\n",
    "print(l)\n",
    "for j in range (len(l)-1):\n",
    "    if (l[j][-1]>l[j+1][-1]):\n",
    "        l[j],l[j+1]=l[j+1],l[j] \n",
    "print(l)"
   ]
  },
  {
   "cell_type": "markdown",
   "metadata": {},
   "source": [
    "# Q3"
   ]
  },
  {
   "cell_type": "code",
   "execution_count": 115,
   "metadata": {},
   "outputs": [
    {
     "name": "stdout",
     "output_type": "stream",
     "text": [
      "{'a': 400, 'b': 400, 'c': 300, 'd': 400}\n"
     ]
    }
   ],
   "source": [
    "d1 = {'a': 100, 'b': 200, 'c':300}\n",
    "d2 = {'a': 300, 'b': 200, 'd':400}\n",
    "\n",
    "for key in d2:\n",
    "    if key in d1:\n",
    "        d1[key] = d2[key] + d1[key] \n",
    "    else:\n",
    "        d1[key]=d2[key]\n",
    "       \n",
    "        \n",
    "print(d1)"
   ]
  },
  {
   "cell_type": "markdown",
   "metadata": {},
   "source": [
    "# Q4"
   ]
  },
  {
   "cell_type": "code",
   "execution_count": 124,
   "metadata": {},
   "outputs": [
    {
     "name": "stdout",
     "output_type": "stream",
     "text": [
      "Give n: 9\n",
      "{1: 1, 2: 4, 3: 9, 4: 16, 5: 25, 6: 36, 7: 49, 8: 64, 9: 81}\n"
     ]
    }
   ],
   "source": [
    "d={}\n",
    "n=int(input('Give n: '))\n",
    "for i in range (1,n+1):\n",
    "    d[i]=i*i\n",
    "print(d)\n",
    "    "
   ]
  },
  {
   "cell_type": "markdown",
   "metadata": {},
   "source": [
    "# Q5"
   ]
  },
  {
   "cell_type": "code",
   "execution_count": 202,
   "metadata": {},
   "outputs": [
    {
     "name": "stdout",
     "output_type": "stream",
     "text": [
      "['20', '10', '9', '5', '7', '25']\n",
      "[('item4', '24.5'), ('item5', '14.7'), ('item3', '45.9'), ('item2', '15.10'), ('item1', '12.20'), ('item6', '34.25')]\n"
     ]
    }
   ],
   "source": [
    "l= [('item1', '12.20'), ('item2', '15.10'), ('item3', '45.9'), ('item4', '24.5'), ('item5', '14.7'), ('item6', '34.25')]\n",
    "li=[]\n",
    "for i in range (len(l)):\n",
    "    for _ in range(len(l[i][1])):\n",
    "        p= l[i][1].split(\".\")\n",
    "    li.append(p[1])\n",
    "print(li)\n",
    "change=True\n",
    "while (change):\n",
    "    change=False\n",
    "    for h in range (len(li)-1):\n",
    "        if (int(li[h])>int(li[h+1])):\n",
    "            l[h+1],l[h]= l[h],l[h+1]\n",
    "            li[h+1],li[h]=li[h],li[h+1]\n",
    "            change=True\n",
    "print(l)\n",
    "\n",
    "\n"
   ]
  },
  {
   "cell_type": "code",
   "execution_count": null,
   "metadata": {},
   "outputs": [],
   "source": []
  }
 ],
 "metadata": {
  "kernelspec": {
   "display_name": "Python 3",
   "language": "python",
   "name": "python3"
  },
  "language_info": {
   "codemirror_mode": {
    "name": "ipython",
    "version": 3
   },
   "file_extension": ".py",
   "mimetype": "text/x-python",
   "name": "python",
   "nbconvert_exporter": "python",
   "pygments_lexer": "ipython3",
   "version": "3.8.5"
  }
 },
 "nbformat": 4,
 "nbformat_minor": 4
}
