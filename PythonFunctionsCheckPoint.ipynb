{
 "cells": [
  {
   "cell_type": "markdown",
   "metadata": {},
   "source": [
    "# Q1"
   ]
  },
  {
   "cell_type": "code",
   "execution_count": 6,
   "metadata": {},
   "outputs": [
    {
     "name": "stdout",
     "output_type": "stream",
     "text": [
      "64\n"
     ]
    }
   ],
   "source": [
    "def max(a,b,c):\n",
    "    if (a>b):\n",
    "        print(a)\n",
    "    elif (b>a):\n",
    "        print(b)\n",
    "    else:\n",
    "        print(c)\n",
    "max(31,64,9)"
   ]
  },
  {
   "cell_type": "markdown",
   "metadata": {},
   "source": [
    "# Q2"
   ]
  },
  {
   "cell_type": "code",
   "execution_count": 8,
   "metadata": {},
   "outputs": [
    {
     "data": {
      "text/plain": [
       "(50, 30)"
      ]
     },
     "execution_count": 8,
     "metadata": {},
     "output_type": "execute_result"
    }
   ],
   "source": [
    "def calc(a,b):\n",
    "    y=a+b\n",
    "    x=a-b\n",
    "    return (y,x)\n",
    "calc(40,10)"
   ]
  },
  {
   "cell_type": "markdown",
   "metadata": {},
   "source": [
    "# Q3"
   ]
  },
  {
   "cell_type": "code",
   "execution_count": 18,
   "metadata": {},
   "outputs": [
    {
     "name": "stdout",
     "output_type": "stream",
     "text": [
      "The summed list:  106 \n",
      "The multiplied list:  15169754234880\n",
      "Even position:  57 \n",
      "Odd position:  1306368\n"
     ]
    }
   ],
   "source": [
    "l=[1,8,2,3,7,4,6,5,4,8,9,2,3,7,4,3,4,8,9,9]\n",
    "lm=[]\n",
    "ls=[]\n",
    "def suum(l):\n",
    "    s=0\n",
    "    for i in range (len(l)):\n",
    "        s+=l[i]\n",
    "    return(s)\n",
    "def mul(l):\n",
    "    s=1\n",
    "    for i in range (len(l)):\n",
    "        s=s*l[i]\n",
    "    return(s)\n",
    "def both(l,lm,ls):\n",
    "    for i in range (len(l)):\n",
    "        if (i%2!=0):\n",
    "            ls.append(l[i])\n",
    "        else:\n",
    "            lm.append(l[i])\n",
    "    e=mul(lm)\n",
    "    z=suum(ls)\n",
    "    print(\"Even position: \",z,\"\\nOdd position: \",e)\n",
    "x=suum(l)\n",
    "y=mul(l)\n",
    "print(\"The summed list: \",x,\"\\nThe multiplied list: \",y)\n",
    "both(l,lm,ls)"
   ]
  },
  {
   "cell_type": "markdown",
   "metadata": {},
   "source": [
    "# Q4"
   ]
  },
  {
   "cell_type": "code",
   "execution_count": 1,
   "metadata": {},
   "outputs": [
    {
     "name": "stdout",
     "output_type": "stream",
     "text": [
      "Give hyphen separated sequence: green-red-yellow-black-white\n",
      "Unsorted sequence:  green-red-yellow-black-white\n",
      "['black', 'green', 'red', 'white', 'yellow']\n"
     ]
    }
   ],
   "source": [
    "x=input(\"Give hyphen separated sequence: \")\n",
    "def org(x):\n",
    "    print(\"Unsorted sequence: \",x)\n",
    "    x=x.lower()\n",
    "    v = x.split(\"-\")\n",
    "    v=sorted(v)\n",
    "    print(v)\n",
    "org(x)\n"
   ]
  },
  {
   "cell_type": "markdown",
   "metadata": {},
   "source": [
    "# Q5"
   ]
  },
  {
   "cell_type": "code",
   "execution_count": 14,
   "metadata": {},
   "outputs": [
    {
     "name": "stdout",
     "output_type": "stream",
     "text": [
      "Give D: 100,150,180\n",
      "[18, 22, 24]\n"
     ]
    }
   ],
   "source": [
    "import math\n",
    "res=[]\n",
    "D=input(\"Give D: \")\n",
    "def calculate(D,res):\n",
    "    p=D.split(\",\")\n",
    "    for i in p:\n",
    "        Q=math.sqrt((2 * 50 * int(i))/30)\n",
    "        res.append(int(Q))\n",
    "    print(res)\n",
    "calculate(D,res)\n",
    "    "
   ]
  },
  {
   "cell_type": "code",
   "execution_count": null,
   "metadata": {},
   "outputs": [],
   "source": []
  }
 ],
 "metadata": {
  "kernelspec": {
   "display_name": "Python 3",
   "language": "python",
   "name": "python3"
  },
  "language_info": {
   "codemirror_mode": {
    "name": "ipython",
    "version": 3
   },
   "file_extension": ".py",
   "mimetype": "text/x-python",
   "name": "python",
   "nbconvert_exporter": "python",
   "pygments_lexer": "ipython3",
   "version": "3.8.5"
  }
 },
 "nbformat": 4,
 "nbformat_minor": 4
}
