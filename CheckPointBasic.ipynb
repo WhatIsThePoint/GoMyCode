{
 "cells": [
  {
   "cell_type": "markdown",
   "metadata": {},
   "source": [
    "# Q1"
   ]
  },
  {
   "cell_type": "code",
   "execution_count": 33,
   "metadata": {},
   "outputs": [
    {
     "name": "stdout",
     "output_type": "stream",
     "text": [
      "name: Youssef\n",
      "last name: Hammi\n",
      "Hammi Youssef\n"
     ]
    }
   ],
   "source": [
    "\n",
    "n=input(\"name: \")\n",
    "ln=input(\"last name: \")\n",
    "print(ln,n)\n"
   ]
  },
  {
   "cell_type": "markdown",
   "metadata": {},
   "source": [
    "# Q2\n"
   ]
  },
  {
   "cell_type": "code",
   "execution_count": 15,
   "metadata": {},
   "outputs": [
    {
     "name": "stdout",
     "output_type": "stream",
     "text": [
      "Give n: 5\n",
      "615\n"
     ]
    }
   ],
   "source": [
    "\n",
    "n=input(\"Give n: \")\n",
    "s=int(str(n))+int(str(n+n))+int(str(n+n+n))\n",
    "print(s)"
   ]
  },
  {
   "cell_type": "markdown",
   "metadata": {},
   "source": [
    "# Q3\n"
   ]
  },
  {
   "cell_type": "code",
   "execution_count": 14,
   "metadata": {},
   "outputs": [
    {
     "name": "stdout",
     "output_type": "stream",
     "text": [
      "Give Number: 6\n",
      "X is even\n"
     ]
    }
   ],
   "source": [
    "\n",
    "x=float(input(\"Give Number: \"))\n",
    "if (x%2==0):\n",
    "    print(\"X is even\")\n",
    "else:\n",
    "    print(\"x is odd\")"
   ]
  },
  {
   "cell_type": "markdown",
   "metadata": {},
   "source": [
    "# Q4"
   ]
  },
  {
   "cell_type": "code",
   "execution_count": 17,
   "metadata": {},
   "outputs": [
    {
     "name": "stdout",
     "output_type": "stream",
     "text": [
      "2002 2009 2016 2023 2037 2044 2051 2058 2072 2079 2086 2093 2107 2114 2121 2128 2142 2149 2156 2163 2177 2184 2191 2198 2212 2219 2226 2233 2247 2254 2261 2268 2282 2289 2296 2303 2317 2324 2331 2338 2352 2359 2366 2373 2387 2394 2401 2408 2422 2429 2436 2443 2457 2464 2471 2478 2492 2499 2506 2513 2527 2534 2541 2548 2562 2569 2576 2583 2597 2604 2611 2618 2632 2639 2646 2653 2667 2674 2681 2688 2702 2709 2716 2723 2737 2744 2751 2758 2772 2779 2786 2793 2807 2814 2821 2828 2842 2849 2856 2863 2877 2884 2891 2898 2912 2919 2926 2933 2947 2954 2961 2968 2982 2989 2996 3003 3017 3024 3031 3038 3052 3059 3066 3073 3087 3094 3101 3108 3122 3129 3136 3143 3157 3164 3171 3178 3192 3199 "
     ]
    }
   ],
   "source": [
    "\n",
    "for i in range (2000,3201):\n",
    "    if (i%7==0)and (i%5!=0):\n",
    "        print(i,end=\" \")"
   ]
  },
  {
   "cell_type": "markdown",
   "metadata": {},
   "source": [
    "# Q5"
   ]
  },
  {
   "cell_type": "code",
   "execution_count": 22,
   "metadata": {},
   "outputs": [
    {
     "name": "stdout",
     "output_type": "stream",
     "text": [
      "Give number: 8\n",
      "40320\n"
     ]
    }
   ],
   "source": [
    "x=int(input(\"Give number: \"))\n",
    "s=1\n",
    "for i in range (1,x+1):\n",
    "    s=s*i\n",
    "print(s)"
   ]
  },
  {
   "cell_type": "markdown",
   "metadata": {},
   "source": [
    "# Q6"
   ]
  },
  {
   "cell_type": "code",
   "execution_count": 8,
   "metadata": {},
   "outputs": [
    {
     "name": "stdout",
     "output_type": "stream",
     "text": [
      "Give string: hello team\n",
      "hlota\n"
     ]
    }
   ],
   "source": [
    "x=input(\"Give string: \")\n",
    "s=\"\"\n",
    "for i in  range (len(x)):\n",
    "    if(i%2==0):\n",
    "        s=s+x[i]\n",
    "print(s)\n",
    "            "
   ]
  },
  {
   "cell_type": "markdown",
   "metadata": {},
   "source": [
    "# Q7"
   ]
  },
  {
   "cell_type": "code",
   "execution_count": 20,
   "metadata": {},
   "outputs": [
    {
     "name": "stdout",
     "output_type": "stream",
     "text": [
      "Give price: 600\n",
      "You got a 50% discount -300.0  you only need to pay 300.0\n"
     ]
    }
   ],
   "source": [
    "x=int(input(\"Give price: \"))\n",
    "if (x>500):\n",
    "    s=(x*50)/100\n",
    "    print(\"You got a 50% discount\",-s,\" you only need to pay\",x-s)\n",
    "elif(200<=x<=500):\n",
    "     s=(x*30)/100\n",
    "     print(\"You got a 30% discount \",-s,\" you only need to pay\",x-s)\n",
    "else:\n",
    "    s=(x*10)/100\n",
    "    print(\"You got a 10% discount \",-s,\" you only need to pay\",x-s)"
   ]
  },
  {
   "cell_type": "markdown",
   "metadata": {},
   "source": [
    "# Q8"
   ]
  },
  {
   "cell_type": "code",
   "execution_count": 32,
   "metadata": {},
   "outputs": [
    {
     "name": "stdout",
     "output_type": "stream",
     "text": [
      "Give a year: 2012\n",
      "2012 is a leap year\n"
     ]
    }
   ],
   "source": [
    "y = int(input(\"Give a year: \"))  \n",
    "if (y % 4) == 0:  \n",
    "    if (y % 100) == 0:  \n",
    "        if (y % 400) == 0:  \n",
    "            print(y,\"is a leap year\")  \n",
    "        else:  \n",
    "            print(y,\" is not a leap year\")  \n",
    "    else:\n",
    "        print(y,\"is a leap year\")  \n",
    "else:\n",
    "     print(y,\" is not a leap year\")  "
   ]
  },
  {
   "cell_type": "code",
   "execution_count": null,
   "metadata": {},
   "outputs": [],
   "source": []
  }
 ],
 "metadata": {
  "kernelspec": {
   "display_name": "Python 3",
   "language": "python",
   "name": "python3"
  },
  "language_info": {
   "codemirror_mode": {
    "name": "ipython",
    "version": 3
   },
   "file_extension": ".py",
   "mimetype": "text/x-python",
   "name": "python",
   "nbconvert_exporter": "python",
   "pygments_lexer": "ipython3",
   "version": "3.8.5"
  }
 },
 "nbformat": 4,
 "nbformat_minor": 4
}
